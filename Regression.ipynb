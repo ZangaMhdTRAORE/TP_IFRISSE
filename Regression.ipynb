{
  "nbformat": 4,
  "nbformat_minor": 0,
  "metadata": {
    "colab": {
      "name": "Regression.ipynb",
      "provenance": [],
      "collapsed_sections": [],
      "authorship_tag": "ABX9TyNtBssPnDDxgZ27c8YzM9yM",
      "include_colab_link": true
    },
    "kernelspec": {
      "name": "python3",
      "display_name": "Python 3"
    }
  },
  "cells": [
    {
      "cell_type": "markdown",
      "metadata": {
        "id": "view-in-github",
        "colab_type": "text"
      },
      "source": [
        "<a href=\"https://colab.research.google.com/github/ZangaMhdTRAORE/TP_IFRISSE/blob/main/Regression.ipynb\" target=\"_parent\"><img src=\"https://colab.research.google.com/assets/colab-badge.svg\" alt=\"Open In Colab\"/></a>"
      ]
    },
    {
      "cell_type": "code",
      "metadata": {
        "id": "JC0Z9o1I_Km0"
      },
      "source": [
        "!pip install --upgrade scikit-learn"
      ],
      "execution_count": null,
      "outputs": []
    },
    {
      "cell_type": "code",
      "metadata": {
        "colab": {
          "base_uri": "https://localhost:8080/"
        },
        "id": "fyR7Jr3e-x9y",
        "outputId": "5ed4ed66-27aa-4c17-e4b8-9a69de08d33d"
      },
      "source": [
        "\n",
        "import numpy as np\n",
        "from sklearn.model_selection import train_test_split\n",
        "from sklearn.linear_model import PoissonRegressor\n",
        "from sklearn.experimental import enable_hist_gradient_boosting  # noqa\n",
        "from sklearn.ensemble import HistGradientBoostingRegressor\n",
        "\n",
        "n_samples, n_features = 1000, 20\n",
        "rng = np.random.RandomState(0)\n",
        "X = rng.randn(n_samples, n_features)\n",
        "# positive integer target correlated with X[:, 5] with many zeros:\n",
        "y = rng.poisson(lam=np.exp(X[:, 5]) / 2)\n",
        "X_train, X_test, y_train, y_test = train_test_split(X, y, random_state=rng)\n",
        "glm = PoissonRegressor()\n",
        "gbdt = HistGradientBoostingRegressor(loss='poisson', learning_rate=.01)\n",
        "glm.fit(X_train, y_train)\n",
        "gbdt.fit(X_train, y_train)\n",
        "print(glm.score(X_test, y_test))\n",
        "print(gbdt.score(X_test, y_test))"
      ],
      "execution_count": null,
      "outputs": [
        {
          "output_type": "stream",
          "text": [
            "0.35776189065725783\n",
            "0.42425183539869415\n"
          ],
          "name": "stdout"
        }
      ]
    },
    {
      "cell_type": "code",
      "metadata": {
        "colab": {
          "base_uri": "https://localhost:8080/",
          "height": 196
        },
        "id": "Ohe2soVr_Hht",
        "outputId": "59a3c756-cefe-462b-ca2f-c52a595e4190"
      },
      "source": [
        "from sklearn import set_config\n",
        "from sklearn.pipeline import make_pipeline\n",
        "from sklearn.preprocessing import OneHotEncoder, StandardScaler\n",
        "from sklearn.impute import SimpleImputer\n",
        "from sklearn.compose import make_column_transformer\n",
        "from sklearn.linear_model import LogisticRegression\n",
        "set_config(display='diagram')\n",
        "\n",
        "num_proc = make_pipeline(SimpleImputer(strategy='median'), StandardScaler())\n",
        "\n",
        "cat_proc = make_pipeline(\n",
        "    SimpleImputer(strategy='constant', fill_value='missing'),\n",
        "    OneHotEncoder(handle_unknown='ignore'))\n",
        "\n",
        "preprocessor = make_column_transformer((num_proc, ('feat1', 'feat3')),\n",
        "                                       (cat_proc, ('feat0', 'feat2')))\n",
        "\n",
        "clf = make_pipeline(preprocessor, LogisticRegression())\n",
        "clf"
      ],
      "execution_count": null,
      "outputs": [
        {
          "output_type": "execute_result",
          "data": {
            "text/html": [
              "<style>div.sk-top-container {color: black;background-color: white;}div.sk-toggleable {background-color: white;}label.sk-toggleable__label {cursor: pointer;display: block;width: 100%;margin-bottom: 0;padding: 0.2em 0.3em;box-sizing: border-box;text-align: center;}div.sk-toggleable__content {max-height: 0;max-width: 0;overflow: hidden;text-align: left;background-color: #f0f8ff;}div.sk-toggleable__content pre {margin: 0.2em;color: black;border-radius: 0.25em;background-color: #f0f8ff;}input.sk-toggleable__control:checked~div.sk-toggleable__content {max-height: 200px;max-width: 100%;overflow: auto;}div.sk-estimator input.sk-toggleable__control:checked~label.sk-toggleable__label {background-color: #d4ebff;}div.sk-label input.sk-toggleable__control:checked~label.sk-toggleable__label {background-color: #d4ebff;}input.sk-hidden--visually {border: 0;clip: rect(1px 1px 1px 1px);clip: rect(1px, 1px, 1px, 1px);height: 1px;margin: -1px;overflow: hidden;padding: 0;position: absolute;width: 1px;}div.sk-estimator {font-family: monospace;background-color: #f0f8ff;margin: 0.25em 0.25em;border: 1px dotted black;border-radius: 0.25em;box-sizing: border-box;}div.sk-estimator:hover {background-color: #d4ebff;}div.sk-parallel-item::after {content: \"\";width: 100%;border-bottom: 1px solid gray;flex-grow: 1;}div.sk-label:hover label.sk-toggleable__label {background-color: #d4ebff;}div.sk-serial::before {content: \"\";position: absolute;border-left: 1px solid gray;box-sizing: border-box;top: 2em;bottom: 0;left: 50%;}div.sk-serial {display: flex;flex-direction: column;align-items: center;background-color: white;}div.sk-item {z-index: 1;}div.sk-parallel {display: flex;align-items: stretch;justify-content: center;background-color: white;}div.sk-parallel-item {display: flex;flex-direction: column;position: relative;background-color: white;}div.sk-parallel-item:first-child::after {align-self: flex-end;width: 50%;}div.sk-parallel-item:last-child::after {align-self: flex-start;width: 50%;}div.sk-parallel-item:only-child::after {width: 0;}div.sk-dashed-wrapped {border: 1px dashed gray;margin: 0.2em;box-sizing: border-box;padding-bottom: 0.1em;background-color: white;position: relative;}div.sk-label label {font-family: monospace;font-weight: bold;background-color: white;display: inline-block;line-height: 1.2em;}div.sk-label-container {position: relative;z-index: 2;text-align: center;}div.sk-container {display: inline-block;position: relative;}</style><div class=\"sk-top-container\"><div class=\"sk-container\"><div class=\"sk-item sk-dashed-wrapped\"><div class=\"sk-label-container\"><div class=\"sk-label sk-toggleable\"><input class=\"sk-toggleable__control sk-hidden--visually\" id=\"ae46c829-6957-4869-a5fd-a4f592549f84\" type=\"checkbox\" ><label class=\"sk-toggleable__label\" for=\"ae46c829-6957-4869-a5fd-a4f592549f84\">Pipeline</label><div class=\"sk-toggleable__content\"><pre>Pipeline(steps=[('columntransformer',\n",
              "                 ColumnTransformer(transformers=[('pipeline-1',\n",
              "                                                  Pipeline(steps=[('simpleimputer',\n",
              "                                                                   SimpleImputer(strategy='median')),\n",
              "                                                                  ('standardscaler',\n",
              "                                                                   StandardScaler())]),\n",
              "                                                  ('feat1', 'feat3')),\n",
              "                                                 ('pipeline-2',\n",
              "                                                  Pipeline(steps=[('simpleimputer',\n",
              "                                                                   SimpleImputer(fill_value='missing',\n",
              "                                                                                 strategy='constant')),\n",
              "                                                                  ('onehotencoder',\n",
              "                                                                   OneHotEncoder(handle_unknown='ignore'))]),\n",
              "                                                  ('feat0', 'feat2'))])),\n",
              "                ('logisticregression', LogisticRegression())])</pre></div></div></div><div class=\"sk-serial\"><div class=\"sk-item sk-dashed-wrapped\"><div class=\"sk-label-container\"><div class=\"sk-label sk-toggleable\"><input class=\"sk-toggleable__control sk-hidden--visually\" id=\"cd415e6d-7eee-4e2c-b66c-b0b58234a1bf\" type=\"checkbox\" ><label class=\"sk-toggleable__label\" for=\"cd415e6d-7eee-4e2c-b66c-b0b58234a1bf\">columntransformer: ColumnTransformer</label><div class=\"sk-toggleable__content\"><pre>ColumnTransformer(transformers=[('pipeline-1',\n",
              "                                 Pipeline(steps=[('simpleimputer',\n",
              "                                                  SimpleImputer(strategy='median')),\n",
              "                                                 ('standardscaler',\n",
              "                                                  StandardScaler())]),\n",
              "                                 ('feat1', 'feat3')),\n",
              "                                ('pipeline-2',\n",
              "                                 Pipeline(steps=[('simpleimputer',\n",
              "                                                  SimpleImputer(fill_value='missing',\n",
              "                                                                strategy='constant')),\n",
              "                                                 ('onehotencoder',\n",
              "                                                  OneHotEncoder(handle_unknown='ignore'))]),\n",
              "                                 ('feat0', 'feat2'))])</pre></div></div></div><div class=\"sk-parallel\"><div class=\"sk-parallel-item\"><div class=\"sk-item\"><div class=\"sk-label-container\"><div class=\"sk-label sk-toggleable\"><input class=\"sk-toggleable__control sk-hidden--visually\" id=\"a3176e4d-2bf6-40f0-aafc-e2f2b2fa21a5\" type=\"checkbox\" ><label class=\"sk-toggleable__label\" for=\"a3176e4d-2bf6-40f0-aafc-e2f2b2fa21a5\">pipeline-1</label><div class=\"sk-toggleable__content\"><pre>('feat1', 'feat3')</pre></div></div></div><div class=\"sk-serial\"><div class=\"sk-item\"><div class=\"sk-serial\"><div class=\"sk-item\"><div class=\"sk-estimator sk-toggleable\"><input class=\"sk-toggleable__control sk-hidden--visually\" id=\"e9af7a71-f6c6-4781-a084-925df38c738d\" type=\"checkbox\" ><label class=\"sk-toggleable__label\" for=\"e9af7a71-f6c6-4781-a084-925df38c738d\">SimpleImputer</label><div class=\"sk-toggleable__content\"><pre>SimpleImputer(strategy='median')</pre></div></div></div><div class=\"sk-item\"><div class=\"sk-estimator sk-toggleable\"><input class=\"sk-toggleable__control sk-hidden--visually\" id=\"c0ff8248-dbb9-410c-857d-591175300d9e\" type=\"checkbox\" ><label class=\"sk-toggleable__label\" for=\"c0ff8248-dbb9-410c-857d-591175300d9e\">StandardScaler</label><div class=\"sk-toggleable__content\"><pre>StandardScaler()</pre></div></div></div></div></div></div></div></div><div class=\"sk-parallel-item\"><div class=\"sk-item\"><div class=\"sk-label-container\"><div class=\"sk-label sk-toggleable\"><input class=\"sk-toggleable__control sk-hidden--visually\" id=\"bc95607b-52da-4f17-aa28-32800fc8f501\" type=\"checkbox\" ><label class=\"sk-toggleable__label\" for=\"bc95607b-52da-4f17-aa28-32800fc8f501\">pipeline-2</label><div class=\"sk-toggleable__content\"><pre>('feat0', 'feat2')</pre></div></div></div><div class=\"sk-serial\"><div class=\"sk-item\"><div class=\"sk-serial\"><div class=\"sk-item\"><div class=\"sk-estimator sk-toggleable\"><input class=\"sk-toggleable__control sk-hidden--visually\" id=\"e7c90189-1554-41bc-90e5-9ef75edd6555\" type=\"checkbox\" ><label class=\"sk-toggleable__label\" for=\"e7c90189-1554-41bc-90e5-9ef75edd6555\">SimpleImputer</label><div class=\"sk-toggleable__content\"><pre>SimpleImputer(fill_value='missing', strategy='constant')</pre></div></div></div><div class=\"sk-item\"><div class=\"sk-estimator sk-toggleable\"><input class=\"sk-toggleable__control sk-hidden--visually\" id=\"d6831188-22b0-4d74-b199-77aed684fa23\" type=\"checkbox\" ><label class=\"sk-toggleable__label\" for=\"d6831188-22b0-4d74-b199-77aed684fa23\">OneHotEncoder</label><div class=\"sk-toggleable__content\"><pre>OneHotEncoder(handle_unknown='ignore')</pre></div></div></div></div></div></div></div></div></div></div><div class=\"sk-item\"><div class=\"sk-estimator sk-toggleable\"><input class=\"sk-toggleable__control sk-hidden--visually\" id=\"62847ef2-5226-4fa6-9767-24c44178d82a\" type=\"checkbox\" ><label class=\"sk-toggleable__label\" for=\"62847ef2-5226-4fa6-9767-24c44178d82a\">LogisticRegression</label><div class=\"sk-toggleable__content\"><pre>LogisticRegression()</pre></div></div></div></div></div></div></div>"
            ],
            "text/plain": [
              "Pipeline(steps=[('columntransformer',\n",
              "                 ColumnTransformer(transformers=[('pipeline-1',\n",
              "                                                  Pipeline(steps=[('simpleimputer',\n",
              "                                                                   SimpleImputer(strategy='median')),\n",
              "                                                                  ('standardscaler',\n",
              "                                                                   StandardScaler())]),\n",
              "                                                  ('feat1', 'feat3')),\n",
              "                                                 ('pipeline-2',\n",
              "                                                  Pipeline(steps=[('simpleimputer',\n",
              "                                                                   SimpleImputer(fill_value='missing',\n",
              "                                                                                 strategy='constant')),\n",
              "                                                                  ('onehotencoder',\n",
              "                                                                   OneHotEncoder(handle_unknown='ignore'))]),\n",
              "                                                  ('feat0', 'feat2'))])),\n",
              "                ('logisticregression', LogisticRegression())])"
            ]
          },
          "metadata": {
            "tags": []
          },
          "execution_count": 4
        }
      ]
    },
    {
      "cell_type": "code",
      "metadata": {
        "colab": {
          "base_uri": "https://localhost:8080/"
        },
        "id": "T9WaQpwKB5Oq",
        "outputId": "e8bc552f-2425-4947-b714-d26a764c6533"
      },
      "source": [
        "import scipy\n",
        "import numpy as np\n",
        "from sklearn.model_selection import train_test_split\n",
        "from sklearn.cluster import KMeans\n",
        "from sklearn.datasets import make_blobs\n",
        "from sklearn.metrics import completeness_score\n",
        "\n",
        "rng = np.random.RandomState(0)\n",
        "X, y = make_blobs(random_state=rng)\n",
        "X = scipy.sparse.csr_matrix(X)\n",
        "X_train, X_test, _, y_test = train_test_split(X, y, random_state=rng)\n",
        "kmeans = KMeans(algorithm='elkan').fit(X_train)\n",
        "print(completeness_score(kmeans.predict(X_test), y_test))"
      ],
      "execution_count": null,
      "outputs": [
        {
          "output_type": "stream",
          "text": [
            "0.7571304089239169\n"
          ],
          "name": "stdout"
        }
      ]
    },
    {
      "cell_type": "code",
      "metadata": {
        "colab": {
          "base_uri": "https://localhost:8080/",
          "height": 283
        },
        "id": "uzrZG2LBCF4N",
        "outputId": "d4415bca-ef81-4de4-ec89-7fbdf4f9318f"
      },
      "source": [
        "import numpy as np\n",
        "from matplotlib import pyplot as plt\n",
        "from sklearn.model_selection import train_test_split\n",
        "from sklearn.inspection import plot_partial_dependence\n",
        "from sklearn.experimental import enable_hist_gradient_boosting  # noqa\n",
        "from sklearn.ensemble import HistGradientBoostingRegressor\n",
        "\n",
        "n_samples = 500\n",
        "rng = np.random.RandomState(0)\n",
        "X = rng.randn(n_samples, 2)\n",
        "noise = rng.normal(loc=0.0, scale=0.01, size=n_samples)\n",
        "y = (5 * X[:, 0] + np.sin(10 * np.pi * X[:, 0]) - noise)\n",
        "\n",
        "gbdt_no_cst = HistGradientBoostingRegressor().fit(X, y)\n",
        "gbdt_cst = HistGradientBoostingRegressor(monotonic_cst=[1, 0]).fit(X, y)\n",
        "\n",
        "disp = plot_partial_dependence(\n",
        "    gbdt_no_cst, X, features=[0], feature_names=['feature 0'],\n",
        "    line_kw={'linewidth': 4, 'label': 'unconstrained'})\n",
        "plot_partial_dependence(gbdt_cst, X, features=[0],\n",
        "    line_kw={'linewidth': 4, 'label': 'constrained'}, ax=disp.axes_)\n",
        "disp.axes_[0, 0].plot(X[:, 0], y, 'o', alpha=.5, zorder=-1, label='samples')\n",
        "disp.axes_[0, 0].set_ylim(-3, 3); disp.axes_[0, 0].set_xlim(-1, 1)\n",
        "plt.legend()\n",
        "plt.show()"
      ],
      "execution_count": null,
      "outputs": [
        {
          "output_type": "display_data",
          "data": {
            "image/png": "[encoded data removed]",
            "text/plain": [
              "<Figure size 432x288 with 2 Axes>"
            ]
          },
          "metadata": {
            "tags": [],
            "needs_background": "light"
          }
        }
      ]
    },
    {
      "cell_type": "code",
      "metadata": {
        "colab": {
          "base_uri": "https://localhost:8080/"
        },
        "id": "S-zbwpO7CZC8",
        "outputId": "f9a8f0ac-b099-499d-f206-fa1ee33af669"
      },
      "source": [
        "from sklearn.model_selection import train_test_split\n",
        "from sklearn.datasets import make_regression\n",
        "from sklearn.linear_model import Lasso\n",
        "import numpy as np\n",
        "\n",
        "n_samples, n_features = 1000, 20\n",
        "rng = np.random.RandomState(0)\n",
        "X, y = make_regression(n_samples, n_features, random_state=rng)\n",
        "sample_weight = rng.rand(n_samples)\n",
        "X_train, X_test, y_train, y_test, sw_train, sw_test = train_test_split(\n",
        "    X, y, sample_weight, random_state=rng)\n",
        "reg = Lasso()\n",
        "reg.fit(X_train, y_train, sample_weight=sw_train)\n",
        "print(reg.score(X_test, y_test, sw_test))"
      ],
      "execution_count": null,
      "outputs": [
        {
          "output_type": "stream",
          "text": [
            "0.999791942438998\n"
          ],
          "name": "stdout"
        }
      ]
    },
    {
      "cell_type": "markdown",
      "metadata": {
        "id": "1qFH0vSGPhog"
      },
      "source": [
        ""
      ]
    },
    {
      "cell_type": "code",
      "metadata": {
        "colab": {
          "base_uri": "https://localhost:8080/",
          "height": 298
        },
        "id": "ARraLLHMPiEy",
        "outputId": "1bee935a-e67a-4701-8b97-2102c0e22b25"
      },
      "source": [
        "import numpy as np\n",
        "\n",
        "from matplotlib import pyplot as plt\n",
        "from scipy.cluster.hierarchy import dendrogram\n",
        "from sklearn.datasets import load_iris\n",
        "from sklearn.cluster import AgglomerativeClustering\n",
        "\n",
        "\n",
        "def plot_dendrogram(model, **kwargs):\n",
        "    # Create linkage matrix and then plot the dendrogram\n",
        "\n",
        "    # create the counts of samples under each node\n",
        "    counts = np.zeros(model.children_.shape[0])\n",
        "    n_samples = len(model.labels_)\n",
        "    for i, merge in enumerate(model.children_):\n",
        "        current_count = 0\n",
        "        for child_idx in merge:\n",
        "            if child_idx < n_samples:\n",
        "                current_count += 1  # leaf node\n",
        "            else:\n",
        "                current_count += counts[child_idx - n_samples]\n",
        "        counts[i] = current_count\n",
        "\n",
        "    linkage_matrix = np.column_stack([model.children_, model.distances_,\n",
        "                                      counts]).astype(float)\n",
        "\n",
        "    # Plot the corresponding dendrogram\n",
        "    dendrogram(linkage_matrix, **kwargs)\n",
        "\n",
        "\n",
        "iris = load_iris()\n",
        "X = iris.data\n",
        "\n",
        "# setting distance_threshold=0 ensures we compute the full tree.\n",
        "model = AgglomerativeClustering(distance_threshold=0, n_clusters=None)\n",
        "\n",
        "model = model.fit(X)\n",
        "plt.title('Hierarchical Clustering Dendrogram')\n",
        "# plot the top three levels of the dendrogram\n",
        "plot_dendrogram(model, truncate_mode='level', p=3)\n",
        "plt.xlabel(\"Number of points in node (or index of point if no parenthesis).\")\n",
        "plt.show()"
      ],
      "execution_count": null,
      "outputs": [
        {
          "output_type": "display_data",
          "data": {
            "image/png": "[encoded data removed]",
            "text/plain": [
              "<Figure size 432x288 with 1 Axes>"
            ]
          },
          "metadata": {
            "tags": [],
            "needs_background": "light"
          }
        }
      ]
    }
  ]
}